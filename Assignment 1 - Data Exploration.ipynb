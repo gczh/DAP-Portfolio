{
 "cells": [
  {
   "cell_type": "code",
   "execution_count": 3,
   "metadata": {
    "collapsed": true
   },
   "outputs": [],
   "source": [
    "# Import the following libraries to get started\n",
    "\n",
    "import pandas as pd\n",
    "import numpy as np\n",
    "import pprint\n",
    "import seaborn as sns"
   ]
  },
  {
   "cell_type": "markdown",
   "metadata": {},
   "source": [
    "# Data Exploration for Restaurant Data\n",
    "\n",
    "## What's The Data Set About?\n",
    "\n",
    "The files available and their data attributes\n"
   ]
  },
  {
   "cell_type": "code",
   "execution_count": 16,
   "metadata": {},
   "outputs": [
    {
     "name": "stdout",
     "output_type": "stream",
     "text": [
      "[Rating Final]\n",
      "userID            object\n",
      "placeID            int64\n",
      "rating             int64\n",
      "food_rating        int64\n",
      "service_rating     int64\n",
      "dtype: object\n",
      "\n",
      "\n",
      "[Geoplaces 2]\n",
      "placeID             int64\n",
      "latitude          float64\n",
      "longitude         float64\n",
      "the_geom_meter     object\n",
      "name               object\n",
      "address            object\n",
      "city               object\n",
      "state              object\n",
      "country            object\n",
      "fax                object\n",
      "zip                object\n",
      "alcohol            object\n",
      "smoking_area       object\n",
      "dress_code         object\n",
      "accessibility      object\n",
      "price              object\n",
      "url                object\n",
      "Rambience          object\n",
      "franchise          object\n",
      "area               object\n",
      "other_services     object\n",
      "dtype: object\n",
      "\n",
      "\n",
      "[Chef Moz Cuisine]\n",
      "placeID      int64\n",
      "Rcuisine    object\n",
      "dtype: object\n",
      "\n",
      "\n"
     ]
    }
   ],
   "source": [
    "rating_final_df = pd.read_csv('./data/rating_final.csv')\n",
    "print(\"[Rating Final]\")\n",
    "print(rating_final_df.dtypes)\n",
    "print(\"\\n\")\n",
    "\n",
    "geoplaces2_df = pd.read_csv('./data/geoplaces2.csv')\n",
    "print(\"[Geoplaces 2]\")\n",
    "print(geoplaces2_df.dtypes)\n",
    "print(\"\\n\")\n",
    "\n",
    "cuisine_df = pd.read_csv('./data/chefmozcuisine.csv') # placeID is not unique\n",
    "print(\"[Chef Moz Cuisine]\")\n",
    "print(cuisine_df.dtypes)\n",
    "print(\"\\n\")"
   ]
  },
  {
   "cell_type": "code",
   "execution_count": null,
   "metadata": {
    "collapsed": true
   },
   "outputs": [],
   "source": []
  }
 ],
 "metadata": {
  "kernelspec": {
   "display_name": "Python 2",
   "language": "python",
   "name": "python2"
  },
  "language_info": {
   "codemirror_mode": {
    "name": "ipython",
    "version": 2
   },
   "file_extension": ".py",
   "mimetype": "text/x-python",
   "name": "python",
   "nbconvert_exporter": "python",
   "pygments_lexer": "ipython2",
   "version": "2.7.14"
  }
 },
 "nbformat": 4,
 "nbformat_minor": 2
}
