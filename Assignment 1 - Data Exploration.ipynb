{
 "cells": [
  {
   "cell_type": "code",
   "execution_count": 92,
   "metadata": {
    "collapsed": true
   },
   "outputs": [],
   "source": [
    "# Import the following libraries to get started\n",
    "\n",
    "import pandas as pd\n",
    "import numpy as np\n",
    "import pprint\n",
    "import seaborn as sns\n",
    "import matplotlib.pyplot as plt\n",
    "%matplotlib inline\n",
    "\n",
    "# Tell pandas to display all columns (instead of hiding them in '...')\n",
    "pd.set_option('display.max_columns', None)"
   ]
  },
  {
   "cell_type": "markdown",
   "metadata": {},
   "source": [
    "# Data Exploration for Restaurant Data\n",
    "\n",
    "## Problem Background\n",
    "\n",
    "I don't know what these datasets are for, what can they tell me and what I can do with it. Hence, let's use some exploratory data analysis to figure out what we can do with these treasure trove of data.\n",
    "\n",
    "## What's The Data Set About?\n",
    "\n",
    "Firstly, let's take a look at what are the files available and their data attributes. We would want to consider the following:\n",
    "\n",
    "1. What are the data attributes\n",
    "2. What are their data types (this would be useful for us to determine whether it's categorical or numerical. If numerical, is it continuous or ordinal?)\n",
    "\n",
    "Answering the above questions would allow us to **guess** the relationship between them. After using some intuition to guess, we can then use data exploratory data analysis techniques to further explore their relationship with each other. These information could allow us to create more accurate predictive models later on\n",
    "\n",
    "## Available Files\n"
   ]
  },
  {
   "cell_type": "code",
   "execution_count": 51,
   "metadata": {},
   "outputs": [
    {
     "name": "stdout",
     "output_type": "stream",
     "text": [
      "1: chefmozparking.csv\n",
      "2: chefmozaccepts.csv\n",
      "3: userpayment.csv\n",
      "4: geoplaces2.csv\n",
      "5: rating_final.csv\n",
      "6: usercuisine.csv\n",
      "7: chefmozcuisine.csv\n",
      "8: chefmozhours4.csv\n",
      "9: userprofile.csv\n"
     ]
    }
   ],
   "source": [
    "import os\n",
    "files = os.listdir('./data')\n",
    "for num, file in enumerate(files):\n",
    "    print(str(num+1) + \": \" + file)"
   ]
  },
  {
   "cell_type": "markdown",
   "metadata": {},
   "source": [
    "From the above, we can see that we have 9 files in the data directory. \n",
    "Let's take a look at what each one of them contains and what could they possibly tell us"
   ]
  },
  {
   "cell_type": "markdown",
   "metadata": {},
   "source": [
    "### chefmozparking.csv - Restaurants And The Parking They Have"
   ]
  },
  {
   "cell_type": "code",
   "execution_count": 52,
   "metadata": {},
   "outputs": [
    {
     "name": "stdout",
     "output_type": "stream",
     "text": [
      "placeID         int64\n",
      "parking_lot    object\n",
      "dtype: object\n",
      "\n",
      "\n"
     ]
    },
    {
     "data": {
      "text/html": [
       "<div>\n",
       "<style>\n",
       "    .dataframe thead tr:only-child th {\n",
       "        text-align: right;\n",
       "    }\n",
       "\n",
       "    .dataframe thead th {\n",
       "        text-align: left;\n",
       "    }\n",
       "\n",
       "    .dataframe tbody tr th {\n",
       "        vertical-align: top;\n",
       "    }\n",
       "</style>\n",
       "<table border=\"1\" class=\"dataframe\">\n",
       "  <thead>\n",
       "    <tr style=\"text-align: right;\">\n",
       "      <th></th>\n",
       "      <th>placeID</th>\n",
       "      <th>parking_lot</th>\n",
       "    </tr>\n",
       "  </thead>\n",
       "  <tbody>\n",
       "    <tr>\n",
       "      <th>0</th>\n",
       "      <td>135111</td>\n",
       "      <td>public</td>\n",
       "    </tr>\n",
       "    <tr>\n",
       "      <th>1</th>\n",
       "      <td>135110</td>\n",
       "      <td>none</td>\n",
       "    </tr>\n",
       "    <tr>\n",
       "      <th>2</th>\n",
       "      <td>135109</td>\n",
       "      <td>none</td>\n",
       "    </tr>\n",
       "    <tr>\n",
       "      <th>3</th>\n",
       "      <td>135108</td>\n",
       "      <td>none</td>\n",
       "    </tr>\n",
       "    <tr>\n",
       "      <th>4</th>\n",
       "      <td>135107</td>\n",
       "      <td>none</td>\n",
       "    </tr>\n",
       "  </tbody>\n",
       "</table>\n",
       "</div>"
      ],
      "text/plain": [
       "   placeID parking_lot\n",
       "0   135111      public\n",
       "1   135110        none\n",
       "2   135109        none\n",
       "3   135108        none\n",
       "4   135107        none"
      ]
     },
     "execution_count": 52,
     "metadata": {},
     "output_type": "execute_result"
    }
   ],
   "source": [
    "chefmozparking_df = pd.read_csv('./data/chefmozparking.csv')\n",
    "print(chefmozparking_df.dtypes)\n",
    "chefmozparking_df.head()\n",
    "print(\"\\n\")\n",
    "\n",
    "chefmozparking_df.head()"
   ]
  },
  {
   "cell_type": "code",
   "execution_count": 61,
   "metadata": {},
   "outputs": [
    {
     "data": {
      "text/plain": [
       "placeID        702\n",
       "parking_lot    702\n",
       "dtype: int64"
      ]
     },
     "execution_count": 61,
     "metadata": {},
     "output_type": "execute_result"
    }
   ],
   "source": [
    "chefmozparking_df.count()"
   ]
  },
  {
   "cell_type": "markdown",
   "metadata": {},
   "source": [
    "We can see from the above that we have 702 rows of data"
   ]
  },
  {
   "cell_type": "code",
   "execution_count": 63,
   "metadata": {},
   "outputs": [
    {
     "data": {
      "text/plain": [
       "(702, 2)"
      ]
     },
     "execution_count": 63,
     "metadata": {},
     "output_type": "execute_result"
    }
   ],
   "source": [
    "chefmozparking_df.shape"
   ]
  },
  {
   "cell_type": "markdown",
   "metadata": {},
   "source": [
    "Another way to check how many rows there are is to use the `shape` **attribute**. We can see that `chefmozparking_df` has **702 rows** and **2 columns/attributes**."
   ]
  },
  {
   "cell_type": "markdown",
   "metadata": {},
   "source": [
    "From the above, we can can see that there are only 2 variables:\n",
    "1. placeID (Integer)\n",
    "2. parking_lot (Object)\n",
    "\n",
    "**parking_lot** seems like a String variable to me however. Let's see what other possible values does it have."
   ]
  },
  {
   "cell_type": "code",
   "execution_count": 53,
   "metadata": {},
   "outputs": [
    {
     "name": "stdout",
     "output_type": "stream",
     "text": [
      "['public' 'none' 'yes' 'valet parking' 'fee' 'street' 'validated parking']\n"
     ]
    }
   ],
   "source": [
    "print(pd.unique(chefmozparking_df.parking_lot))"
   ]
  },
  {
   "cell_type": "markdown",
   "metadata": {},
   "source": [
    "We can see from the above that all the possible values of the variable **parking_lot** are Strings. We can make a smart guess on what they could mean:\n",
    "\n",
    "- **public** refers to **public parking**\n",
    "- **none** refers to **no parking available**\n",
    "- **yes** refers to **there is parking available!**\n",
    "- **valet parking** refers to **there are valets to park for you**\n",
    "- **fee** refers to **there is a fee-based carpark**\n",
    "- **street** refers to **parking is avaialable on the street**\n",
    "- **validated parking** -- not quite sure what this means!"
   ]
  },
  {
   "cell_type": "markdown",
   "metadata": {},
   "source": [
    "### chefmozaccepts.csv - Restaurants & The Payment Types They Accept"
   ]
  },
  {
   "cell_type": "code",
   "execution_count": 54,
   "metadata": {},
   "outputs": [
    {
     "name": "stdout",
     "output_type": "stream",
     "text": [
      "placeID      int64\n",
      "Rpayment    object\n",
      "dtype: object\n",
      "\n",
      "\n",
      "12 types of payment options:\n",
      "\n",
      "['cash' 'VISA' 'MasterCard-Eurocard' 'American_Express' 'bank_debit_cards'\n",
      " 'checks' 'Discover' 'Carte_Blanche' 'Diners_Club' 'Visa'\n",
      " 'Japan_Credit_Bureau' 'gift_certificates']\n"
     ]
    },
    {
     "data": {
      "text/html": [
       "<div>\n",
       "<style>\n",
       "    .dataframe thead tr:only-child th {\n",
       "        text-align: right;\n",
       "    }\n",
       "\n",
       "    .dataframe thead th {\n",
       "        text-align: left;\n",
       "    }\n",
       "\n",
       "    .dataframe tbody tr th {\n",
       "        vertical-align: top;\n",
       "    }\n",
       "</style>\n",
       "<table border=\"1\" class=\"dataframe\">\n",
       "  <thead>\n",
       "    <tr style=\"text-align: right;\">\n",
       "      <th></th>\n",
       "      <th>placeID</th>\n",
       "      <th>Rpayment</th>\n",
       "    </tr>\n",
       "  </thead>\n",
       "  <tbody>\n",
       "    <tr>\n",
       "      <th>0</th>\n",
       "      <td>135110</td>\n",
       "      <td>cash</td>\n",
       "    </tr>\n",
       "    <tr>\n",
       "      <th>1</th>\n",
       "      <td>135110</td>\n",
       "      <td>VISA</td>\n",
       "    </tr>\n",
       "    <tr>\n",
       "      <th>2</th>\n",
       "      <td>135110</td>\n",
       "      <td>MasterCard-Eurocard</td>\n",
       "    </tr>\n",
       "    <tr>\n",
       "      <th>3</th>\n",
       "      <td>135110</td>\n",
       "      <td>American_Express</td>\n",
       "    </tr>\n",
       "    <tr>\n",
       "      <th>4</th>\n",
       "      <td>135110</td>\n",
       "      <td>bank_debit_cards</td>\n",
       "    </tr>\n",
       "  </tbody>\n",
       "</table>\n",
       "</div>"
      ],
      "text/plain": [
       "   placeID             Rpayment\n",
       "0   135110                 cash\n",
       "1   135110                 VISA\n",
       "2   135110  MasterCard-Eurocard\n",
       "3   135110     American_Express\n",
       "4   135110     bank_debit_cards"
      ]
     },
     "execution_count": 54,
     "metadata": {},
     "output_type": "execute_result"
    }
   ],
   "source": [
    "chefmozaccepts_df = pd.read_csv('./data/chefmozaccepts.csv')\n",
    "print(chefmozaccepts_df.dtypes)\n",
    "chefmozaccepts_df.head()\n",
    "print(\"\\n\")\n",
    "\n",
    "print(str(len(pd.unique(chefmozaccepts_df.Rpayment))) + \" types of payment options:\\n\")\n",
    "print(pd.unique(chefmozaccepts_df.Rpayment))\n",
    "\n",
    "chefmozaccepts_df.head()"
   ]
  },
  {
   "cell_type": "markdown",
   "metadata": {
    "collapsed": true
   },
   "source": [
    "From the above, we can see that there are **many payment types** for each **placeID**. It is represented by having **multiple rows** of the **same placeID** and the **Rpayment** variable. That variable, by smart guessing and some DataFrames magic tells us that there are 12 types of payment options..."
   ]
  },
  {
   "cell_type": "code",
   "execution_count": null,
   "metadata": {
    "collapsed": true
   },
   "outputs": [],
   "source": []
  },
  {
   "cell_type": "markdown",
   "metadata": {},
   "source": [
    "### userpayment.csv - Users & Their Modes of Payments"
   ]
  },
  {
   "cell_type": "code",
   "execution_count": 55,
   "metadata": {},
   "outputs": [
    {
     "name": "stdout",
     "output_type": "stream",
     "text": [
      "userID      object\n",
      "Upayment    object\n",
      "dtype: object\n",
      "\n",
      "\n"
     ]
    },
    {
     "data": {
      "text/html": [
       "<div>\n",
       "<style>\n",
       "    .dataframe thead tr:only-child th {\n",
       "        text-align: right;\n",
       "    }\n",
       "\n",
       "    .dataframe thead th {\n",
       "        text-align: left;\n",
       "    }\n",
       "\n",
       "    .dataframe tbody tr th {\n",
       "        vertical-align: top;\n",
       "    }\n",
       "</style>\n",
       "<table border=\"1\" class=\"dataframe\">\n",
       "  <thead>\n",
       "    <tr style=\"text-align: right;\">\n",
       "      <th></th>\n",
       "      <th>userID</th>\n",
       "      <th>Upayment</th>\n",
       "    </tr>\n",
       "  </thead>\n",
       "  <tbody>\n",
       "    <tr>\n",
       "      <th>0</th>\n",
       "      <td>U1001</td>\n",
       "      <td>cash</td>\n",
       "    </tr>\n",
       "    <tr>\n",
       "      <th>1</th>\n",
       "      <td>U1002</td>\n",
       "      <td>cash</td>\n",
       "    </tr>\n",
       "    <tr>\n",
       "      <th>2</th>\n",
       "      <td>U1003</td>\n",
       "      <td>cash</td>\n",
       "    </tr>\n",
       "    <tr>\n",
       "      <th>3</th>\n",
       "      <td>U1004</td>\n",
       "      <td>cash</td>\n",
       "    </tr>\n",
       "    <tr>\n",
       "      <th>4</th>\n",
       "      <td>U1004</td>\n",
       "      <td>bank_debit_cards</td>\n",
       "    </tr>\n",
       "  </tbody>\n",
       "</table>\n",
       "</div>"
      ],
      "text/plain": [
       "  userID          Upayment\n",
       "0  U1001              cash\n",
       "1  U1002              cash\n",
       "2  U1003              cash\n",
       "3  U1004              cash\n",
       "4  U1004  bank_debit_cards"
      ]
     },
     "execution_count": 55,
     "metadata": {},
     "output_type": "execute_result"
    }
   ],
   "source": [
    "userpayment_df = pd.read_csv('./data/userpayment.csv')\n",
    "print(userpayment_df.dtypes)\n",
    "userpayment_df.head()\n",
    "print(\"\\n\")\n",
    "\n",
    "userpayment_df.head()"
   ]
  },
  {
   "cell_type": "code",
   "execution_count": 56,
   "metadata": {},
   "outputs": [
    {
     "data": {
      "text/plain": [
       "array(['U1001', 'U1002', 'U1003', 'U1004', 'U1005', 'U1006', 'U1007',\n",
       "       'U1008', 'U1009', 'U1010', 'U1011', 'U1012', 'U1013', 'U1014',\n",
       "       'U1015', 'U1016', 'U1017', 'U1018', 'U1019', 'U1020', 'U1021',\n",
       "       'U1022', 'U1023', 'U1026', 'U1027', 'U1028', 'U1029', 'U1030',\n",
       "       'U1031', 'U1032', 'U1033', 'U1034', 'U1035', 'U1036', 'U1037',\n",
       "       'U1038', 'U1039', 'U1040', 'U1041', 'U1042', 'U1043', 'U1044',\n",
       "       'U1045', 'U1046', 'U1047', 'U1048', 'U1049', 'U1050', 'U1051',\n",
       "       'U1052', 'U1053', 'U1054', 'U1055', 'U1056', 'U1057', 'U1058',\n",
       "       'U1059', 'U1060', 'U1061', 'U1062', 'U1063', 'U1064', 'U1065',\n",
       "       'U1066', 'U1067', 'U1068', 'U1069', 'U1070', 'U1071', 'U1072',\n",
       "       'U1073', 'U1074', 'U1075', 'U1076', 'U1077', 'U1078', 'U1079',\n",
       "       'U1080', 'U1081', 'U1082', 'U1083', 'U1084', 'U1085', 'U1086',\n",
       "       'U1087', 'U1089', 'U1090', 'U1091', 'U1092', 'U1093', 'U1094',\n",
       "       'U1095', 'U1096', 'U1097', 'U1098', 'U1099', 'U1100', 'U1101',\n",
       "       'U1102', 'U1103', 'U1104', 'U1105', 'U1106', 'U1107', 'U1108',\n",
       "       'U1109', 'U1110', 'U1111', 'U1112', 'U1113', 'U1114', 'U1115',\n",
       "       'U1116', 'U1117', 'U1118', 'U1119', 'U1120', 'U1121', 'U1123',\n",
       "       'U1124', 'U1125', 'U1126', 'U1127', 'U1128', 'U1129', 'U1131',\n",
       "       'U1132', 'U1133', 'U1134', 'U1135', 'U1136', 'U1137', 'U1138'], dtype=object)"
      ]
     },
     "execution_count": 56,
     "metadata": {},
     "output_type": "execute_result"
    }
   ],
   "source": [
    "pd.unique(userpayment_df.userID)"
   ]
  },
  {
   "cell_type": "markdown",
   "metadata": {},
   "source": [
    "**Some tiny technical details:** As you can see, all the possible userID values are \"UXXXX\" where XXXX are integers. Because of the U, it is classified as an Object (possibly a String Object)"
   ]
  },
  {
   "cell_type": "markdown",
   "metadata": {},
   "source": [
    "From the above, we can see that **userpayment.csv** is about users and their modes of payment. From userID U1004, we can see that the user has **2 types of payments:** cash and bank_debit_cards"
   ]
  },
  {
   "cell_type": "code",
   "execution_count": 57,
   "metadata": {},
   "outputs": [
    {
     "name": "stdout",
     "output_type": "stream",
     "text": [
      "Upayment    object\n",
      "dtype: object\n"
     ]
    },
    {
     "data": {
      "text/html": [
       "<div>\n",
       "<style>\n",
       "    .dataframe thead tr:only-child th {\n",
       "        text-align: right;\n",
       "    }\n",
       "\n",
       "    .dataframe thead th {\n",
       "        text-align: left;\n",
       "    }\n",
       "\n",
       "    .dataframe tbody tr th {\n",
       "        vertical-align: top;\n",
       "    }\n",
       "</style>\n",
       "<table border=\"1\" class=\"dataframe\">\n",
       "  <thead>\n",
       "    <tr style=\"text-align: right;\">\n",
       "      <th></th>\n",
       "      <th>Upayment</th>\n",
       "    </tr>\n",
       "    <tr>\n",
       "      <th>userID</th>\n",
       "      <th></th>\n",
       "    </tr>\n",
       "  </thead>\n",
       "  <tbody>\n",
       "    <tr>\n",
       "      <th>U1001</th>\n",
       "      <td>[cash]</td>\n",
       "    </tr>\n",
       "    <tr>\n",
       "      <th>U1002</th>\n",
       "      <td>[cash]</td>\n",
       "    </tr>\n",
       "    <tr>\n",
       "      <th>U1003</th>\n",
       "      <td>[cash]</td>\n",
       "    </tr>\n",
       "    <tr>\n",
       "      <th>U1004</th>\n",
       "      <td>[cash, bank_debit_cards]</td>\n",
       "    </tr>\n",
       "    <tr>\n",
       "      <th>U1005</th>\n",
       "      <td>[cash]</td>\n",
       "    </tr>\n",
       "  </tbody>\n",
       "</table>\n",
       "</div>"
      ],
      "text/plain": [
       "                        Upayment\n",
       "userID                          \n",
       "U1001                     [cash]\n",
       "U1002                     [cash]\n",
       "U1003                     [cash]\n",
       "U1004   [cash, bank_debit_cards]\n",
       "U1005                     [cash]"
      ]
     },
     "execution_count": 57,
     "metadata": {},
     "output_type": "execute_result"
    }
   ],
   "source": [
    "groupedPayments = userpayment_df.groupby('userID')\n",
    "userpayment_df = groupedPayments.aggregate(lambda x: list(x))\n",
    "print(userpayment_df.dtypes)\n",
    "userpayment_df.head()"
   ]
  },
  {
   "cell_type": "markdown",
   "metadata": {},
   "source": [
    "### geoplaces2.csv - List of restaurants"
   ]
  },
  {
   "cell_type": "code",
   "execution_count": 59,
   "metadata": {},
   "outputs": [
    {
     "name": "stdout",
     "output_type": "stream",
     "text": [
      "placeID             int64\n",
      "latitude          float64\n",
      "longitude         float64\n",
      "the_geom_meter     object\n",
      "name               object\n",
      "address            object\n",
      "city               object\n",
      "state              object\n",
      "country            object\n",
      "fax                object\n",
      "zip                object\n",
      "alcohol            object\n",
      "smoking_area       object\n",
      "dress_code         object\n",
      "accessibility      object\n",
      "price              object\n",
      "url                object\n",
      "Rambience          object\n",
      "franchise          object\n",
      "area               object\n",
      "other_services     object\n",
      "dtype: object\n",
      "\n",
      "\n"
     ]
    },
    {
     "data": {
      "text/html": [
       "<div>\n",
       "<style>\n",
       "    .dataframe thead tr:only-child th {\n",
       "        text-align: right;\n",
       "    }\n",
       "\n",
       "    .dataframe thead th {\n",
       "        text-align: left;\n",
       "    }\n",
       "\n",
       "    .dataframe tbody tr th {\n",
       "        vertical-align: top;\n",
       "    }\n",
       "</style>\n",
       "<table border=\"1\" class=\"dataframe\">\n",
       "  <thead>\n",
       "    <tr style=\"text-align: right;\">\n",
       "      <th></th>\n",
       "      <th>placeID</th>\n",
       "      <th>latitude</th>\n",
       "      <th>longitude</th>\n",
       "      <th>the_geom_meter</th>\n",
       "      <th>name</th>\n",
       "      <th>address</th>\n",
       "      <th>city</th>\n",
       "      <th>state</th>\n",
       "      <th>country</th>\n",
       "      <th>fax</th>\n",
       "      <th>...</th>\n",
       "      <th>alcohol</th>\n",
       "      <th>smoking_area</th>\n",
       "      <th>dress_code</th>\n",
       "      <th>accessibility</th>\n",
       "      <th>price</th>\n",
       "      <th>url</th>\n",
       "      <th>Rambience</th>\n",
       "      <th>franchise</th>\n",
       "      <th>area</th>\n",
       "      <th>other_services</th>\n",
       "    </tr>\n",
       "  </thead>\n",
       "  <tbody>\n",
       "    <tr>\n",
       "      <th>0</th>\n",
       "      <td>134999</td>\n",
       "      <td>18.915421</td>\n",
       "      <td>-99.184871</td>\n",
       "      <td>0101000020957F000088568DE356715AC138C0A525FC46...</td>\n",
       "      <td>Kiku Cuernavaca</td>\n",
       "      <td>Revolucion</td>\n",
       "      <td>Cuernavaca</td>\n",
       "      <td>Morelos</td>\n",
       "      <td>Mexico</td>\n",
       "      <td>?</td>\n",
       "      <td>...</td>\n",
       "      <td>No_Alcohol_Served</td>\n",
       "      <td>none</td>\n",
       "      <td>informal</td>\n",
       "      <td>no_accessibility</td>\n",
       "      <td>medium</td>\n",
       "      <td>kikucuernavaca.com.mx</td>\n",
       "      <td>familiar</td>\n",
       "      <td>f</td>\n",
       "      <td>closed</td>\n",
       "      <td>none</td>\n",
       "    </tr>\n",
       "    <tr>\n",
       "      <th>1</th>\n",
       "      <td>132825</td>\n",
       "      <td>22.147392</td>\n",
       "      <td>-100.983092</td>\n",
       "      <td>0101000020957F00001AD016568C4858C1243261274BA5...</td>\n",
       "      <td>puesto de tacos</td>\n",
       "      <td>esquina santos degollado y leon guzman</td>\n",
       "      <td>s.l.p.</td>\n",
       "      <td>s.l.p.</td>\n",
       "      <td>mexico</td>\n",
       "      <td>?</td>\n",
       "      <td>...</td>\n",
       "      <td>No_Alcohol_Served</td>\n",
       "      <td>none</td>\n",
       "      <td>informal</td>\n",
       "      <td>completely</td>\n",
       "      <td>low</td>\n",
       "      <td>?</td>\n",
       "      <td>familiar</td>\n",
       "      <td>f</td>\n",
       "      <td>open</td>\n",
       "      <td>none</td>\n",
       "    </tr>\n",
       "    <tr>\n",
       "      <th>2</th>\n",
       "      <td>135106</td>\n",
       "      <td>22.149709</td>\n",
       "      <td>-100.976093</td>\n",
       "      <td>0101000020957F0000649D6F21634858C119AE9BF528A3...</td>\n",
       "      <td>El Rinc�n de San Francisco</td>\n",
       "      <td>Universidad 169</td>\n",
       "      <td>San Luis Potosi</td>\n",
       "      <td>San Luis Potosi</td>\n",
       "      <td>Mexico</td>\n",
       "      <td>?</td>\n",
       "      <td>...</td>\n",
       "      <td>Wine-Beer</td>\n",
       "      <td>only at bar</td>\n",
       "      <td>informal</td>\n",
       "      <td>partially</td>\n",
       "      <td>medium</td>\n",
       "      <td>?</td>\n",
       "      <td>familiar</td>\n",
       "      <td>f</td>\n",
       "      <td>open</td>\n",
       "      <td>none</td>\n",
       "    </tr>\n",
       "    <tr>\n",
       "      <th>3</th>\n",
       "      <td>132667</td>\n",
       "      <td>23.752697</td>\n",
       "      <td>-99.163359</td>\n",
       "      <td>0101000020957F00005D67BCDDED8157C1222A2DC8D84D...</td>\n",
       "      <td>little pizza Emilio Portes Gil</td>\n",
       "      <td>calle emilio portes gil</td>\n",
       "      <td>victoria</td>\n",
       "      <td>tamaulipas</td>\n",
       "      <td>?</td>\n",
       "      <td>?</td>\n",
       "      <td>...</td>\n",
       "      <td>No_Alcohol_Served</td>\n",
       "      <td>none</td>\n",
       "      <td>informal</td>\n",
       "      <td>completely</td>\n",
       "      <td>low</td>\n",
       "      <td>?</td>\n",
       "      <td>familiar</td>\n",
       "      <td>t</td>\n",
       "      <td>closed</td>\n",
       "      <td>none</td>\n",
       "    </tr>\n",
       "    <tr>\n",
       "      <th>4</th>\n",
       "      <td>132613</td>\n",
       "      <td>23.752903</td>\n",
       "      <td>-99.165076</td>\n",
       "      <td>0101000020957F00008EBA2D06DC8157C194E03B7B504E...</td>\n",
       "      <td>carnitas_mata</td>\n",
       "      <td>lic. Emilio portes gil</td>\n",
       "      <td>victoria</td>\n",
       "      <td>Tamaulipas</td>\n",
       "      <td>Mexico</td>\n",
       "      <td>?</td>\n",
       "      <td>...</td>\n",
       "      <td>No_Alcohol_Served</td>\n",
       "      <td>permitted</td>\n",
       "      <td>informal</td>\n",
       "      <td>completely</td>\n",
       "      <td>medium</td>\n",
       "      <td>?</td>\n",
       "      <td>familiar</td>\n",
       "      <td>t</td>\n",
       "      <td>closed</td>\n",
       "      <td>none</td>\n",
       "    </tr>\n",
       "  </tbody>\n",
       "</table>\n",
       "<p>5 rows × 21 columns</p>\n",
       "</div>"
      ],
      "text/plain": [
       "   placeID   latitude   longitude  \\\n",
       "0   134999  18.915421  -99.184871   \n",
       "1   132825  22.147392 -100.983092   \n",
       "2   135106  22.149709 -100.976093   \n",
       "3   132667  23.752697  -99.163359   \n",
       "4   132613  23.752903  -99.165076   \n",
       "\n",
       "                                      the_geom_meter  \\\n",
       "0  0101000020957F000088568DE356715AC138C0A525FC46...   \n",
       "1  0101000020957F00001AD016568C4858C1243261274BA5...   \n",
       "2  0101000020957F0000649D6F21634858C119AE9BF528A3...   \n",
       "3  0101000020957F00005D67BCDDED8157C1222A2DC8D84D...   \n",
       "4  0101000020957F00008EBA2D06DC8157C194E03B7B504E...   \n",
       "\n",
       "                             name                                 address  \\\n",
       "0                 Kiku Cuernavaca                              Revolucion   \n",
       "1                 puesto de tacos  esquina santos degollado y leon guzman   \n",
       "2      El Rinc�n de San Francisco                         Universidad 169   \n",
       "3  little pizza Emilio Portes Gil                 calle emilio portes gil   \n",
       "4                   carnitas_mata                  lic. Emilio portes gil   \n",
       "\n",
       "              city            state country fax      ...        \\\n",
       "0       Cuernavaca          Morelos  Mexico   ?      ...         \n",
       "1           s.l.p.           s.l.p.  mexico   ?      ...         \n",
       "2  San Luis Potosi  San Luis Potosi  Mexico   ?      ...         \n",
       "3        victoria        tamaulipas       ?   ?      ...         \n",
       "4         victoria       Tamaulipas  Mexico   ?      ...         \n",
       "\n",
       "             alcohol smoking_area dress_code     accessibility   price  \\\n",
       "0  No_Alcohol_Served         none   informal  no_accessibility  medium   \n",
       "1  No_Alcohol_Served         none   informal        completely     low   \n",
       "2          Wine-Beer  only at bar   informal         partially  medium   \n",
       "3  No_Alcohol_Served         none   informal        completely     low   \n",
       "4  No_Alcohol_Served    permitted   informal        completely  medium   \n",
       "\n",
       "                     url Rambience franchise    area other_services  \n",
       "0  kikucuernavaca.com.mx  familiar         f  closed           none  \n",
       "1                      ?  familiar         f    open           none  \n",
       "2                      ?  familiar         f    open           none  \n",
       "3                      ?  familiar         t  closed           none  \n",
       "4                      ?  familiar         t  closed           none  \n",
       "\n",
       "[5 rows x 21 columns]"
      ]
     },
     "execution_count": 59,
     "metadata": {},
     "output_type": "execute_result"
    }
   ],
   "source": [
    "geoplaces_df = pd.read_csv('./data/geoplaces2.csv')\n",
    "print(geoplaces_df.dtypes)\n",
    "geoplaces_df.head()\n",
    "print(\"\\n\")\n",
    "\n",
    "geoplaces_df.head()"
   ]
  },
  {
   "cell_type": "code",
   "execution_count": 91,
   "metadata": {},
   "outputs": [
    {
     "data": {
      "text/html": [
       "<div>\n",
       "<style>\n",
       "    .dataframe thead tr:only-child th {\n",
       "        text-align: right;\n",
       "    }\n",
       "\n",
       "    .dataframe thead th {\n",
       "        text-align: left;\n",
       "    }\n",
       "\n",
       "    .dataframe tbody tr th {\n",
       "        vertical-align: top;\n",
       "    }\n",
       "</style>\n",
       "<table border=\"1\" class=\"dataframe\">\n",
       "  <thead>\n",
       "    <tr style=\"text-align: right;\">\n",
       "      <th></th>\n",
       "      <th>placeID</th>\n",
       "      <th>latitude</th>\n",
       "      <th>longitude</th>\n",
       "      <th>the_geom_meter</th>\n",
       "      <th>name</th>\n",
       "      <th>address</th>\n",
       "      <th>city</th>\n",
       "      <th>state</th>\n",
       "      <th>country</th>\n",
       "      <th>fax</th>\n",
       "      <th>zip</th>\n",
       "      <th>alcohol</th>\n",
       "      <th>smoking_area</th>\n",
       "      <th>dress_code</th>\n",
       "      <th>accessibility</th>\n",
       "      <th>price</th>\n",
       "      <th>url</th>\n",
       "      <th>Rambience</th>\n",
       "      <th>franchise</th>\n",
       "      <th>area</th>\n",
       "      <th>other_services</th>\n",
       "    </tr>\n",
       "  </thead>\n",
       "  <tbody>\n",
       "    <tr>\n",
       "      <th>0</th>\n",
       "      <td>134999</td>\n",
       "      <td>18.915421</td>\n",
       "      <td>-99.184871</td>\n",
       "      <td>0101000020957F000088568DE356715AC138C0A525FC46...</td>\n",
       "      <td>Kiku Cuernavaca</td>\n",
       "      <td>Revolucion</td>\n",
       "      <td>Cuernavaca</td>\n",
       "      <td>Morelos</td>\n",
       "      <td>Mexico</td>\n",
       "      <td>?</td>\n",
       "      <td>?</td>\n",
       "      <td>No_Alcohol_Served</td>\n",
       "      <td>none</td>\n",
       "      <td>informal</td>\n",
       "      <td>no_accessibility</td>\n",
       "      <td>medium</td>\n",
       "      <td>kikucuernavaca.com.mx</td>\n",
       "      <td>familiar</td>\n",
       "      <td>f</td>\n",
       "      <td>closed</td>\n",
       "      <td>none</td>\n",
       "    </tr>\n",
       "  </tbody>\n",
       "</table>\n",
       "</div>"
      ],
      "text/plain": [
       "   placeID   latitude  longitude  \\\n",
       "0   134999  18.915421 -99.184871   \n",
       "\n",
       "                                      the_geom_meter             name  \\\n",
       "0  0101000020957F000088568DE356715AC138C0A525FC46...  Kiku Cuernavaca   \n",
       "\n",
       "      address        city    state country fax zip            alcohol  \\\n",
       "0  Revolucion  Cuernavaca  Morelos  Mexico   ?   ?  No_Alcohol_Served   \n",
       "\n",
       "  smoking_area dress_code     accessibility   price                    url  \\\n",
       "0         none   informal  no_accessibility  medium  kikucuernavaca.com.mx   \n",
       "\n",
       "  Rambience franchise    area other_services  \n",
       "0  familiar         f  closed           none  "
      ]
     },
     "execution_count": 91,
     "metadata": {},
     "output_type": "execute_result"
    }
   ],
   "source": [
    "geoplaces_df[0:1]"
   ]
  },
  {
   "cell_type": "code",
   "execution_count": 74,
   "metadata": {},
   "outputs": [
    {
     "data": {
      "text/plain": [
       "array(['?', '78280', '78000', '74000', '87018', '78421', '78399', '78250',\n",
       "       '78395', '78290', '62250', '78269', '62320', '78000S', '62460',\n",
       "       '78430', '78390', '78200', '62170', '78270', '62790', '78038',\n",
       "       '78210', '78310', '78740', '62290', '78240', '78396', '78349',\n",
       "       '78433', '79300', '78214', '64000', '62000', '78220'], dtype=object)"
      ]
     },
     "execution_count": 74,
     "metadata": {},
     "output_type": "execute_result"
    }
   ],
   "source": [
    "pd.unique(geoplaces_df.zip)"
   ]
  },
  {
   "cell_type": "markdown",
   "metadata": {},
   "source": [
    "So this is why what should have been int64 attributes are objects. We might want to clean/remove rows with ? in the zip and fax columns. Or maybe not, since the other columns may provide some value..."
   ]
  },
  {
   "cell_type": "code",
   "execution_count": 65,
   "metadata": {},
   "outputs": [
    {
     "data": {
      "text/plain": [
       "(130, 21)"
      ]
     },
     "execution_count": 65,
     "metadata": {},
     "output_type": "execute_result"
    }
   ],
   "source": [
    "geoplaces_df.shape"
   ]
  },
  {
   "cell_type": "markdown",
   "metadata": {
    "collapsed": true
   },
   "source": [
    "There are **130 rows** with **21 attributes** for geoplaces_df"
   ]
  },
  {
   "cell_type": "markdown",
   "metadata": {},
   "source": [
    "### rating_final.csv - List of User Ratings for Restaurants"
   ]
  },
  {
   "cell_type": "code",
   "execution_count": 75,
   "metadata": {},
   "outputs": [
    {
     "name": "stdout",
     "output_type": "stream",
     "text": [
      "userID            object\n",
      "placeID            int64\n",
      "rating             int64\n",
      "food_rating        int64\n",
      "service_rating     int64\n",
      "dtype: object\n",
      "\n",
      "\n"
     ]
    },
    {
     "data": {
      "text/html": [
       "<div>\n",
       "<style>\n",
       "    .dataframe thead tr:only-child th {\n",
       "        text-align: right;\n",
       "    }\n",
       "\n",
       "    .dataframe thead th {\n",
       "        text-align: left;\n",
       "    }\n",
       "\n",
       "    .dataframe tbody tr th {\n",
       "        vertical-align: top;\n",
       "    }\n",
       "</style>\n",
       "<table border=\"1\" class=\"dataframe\">\n",
       "  <thead>\n",
       "    <tr style=\"text-align: right;\">\n",
       "      <th></th>\n",
       "      <th>userID</th>\n",
       "      <th>placeID</th>\n",
       "      <th>rating</th>\n",
       "      <th>food_rating</th>\n",
       "      <th>service_rating</th>\n",
       "    </tr>\n",
       "  </thead>\n",
       "  <tbody>\n",
       "    <tr>\n",
       "      <th>0</th>\n",
       "      <td>U1077</td>\n",
       "      <td>135085</td>\n",
       "      <td>2</td>\n",
       "      <td>2</td>\n",
       "      <td>2</td>\n",
       "    </tr>\n",
       "    <tr>\n",
       "      <th>1</th>\n",
       "      <td>U1077</td>\n",
       "      <td>135038</td>\n",
       "      <td>2</td>\n",
       "      <td>2</td>\n",
       "      <td>1</td>\n",
       "    </tr>\n",
       "    <tr>\n",
       "      <th>2</th>\n",
       "      <td>U1077</td>\n",
       "      <td>132825</td>\n",
       "      <td>2</td>\n",
       "      <td>2</td>\n",
       "      <td>2</td>\n",
       "    </tr>\n",
       "    <tr>\n",
       "      <th>3</th>\n",
       "      <td>U1077</td>\n",
       "      <td>135060</td>\n",
       "      <td>1</td>\n",
       "      <td>2</td>\n",
       "      <td>2</td>\n",
       "    </tr>\n",
       "    <tr>\n",
       "      <th>4</th>\n",
       "      <td>U1068</td>\n",
       "      <td>135104</td>\n",
       "      <td>1</td>\n",
       "      <td>1</td>\n",
       "      <td>2</td>\n",
       "    </tr>\n",
       "  </tbody>\n",
       "</table>\n",
       "</div>"
      ],
      "text/plain": [
       "  userID  placeID  rating  food_rating  service_rating\n",
       "0  U1077   135085       2            2               2\n",
       "1  U1077   135038       2            2               1\n",
       "2  U1077   132825       2            2               2\n",
       "3  U1077   135060       1            2               2\n",
       "4  U1068   135104       1            1               2"
      ]
     },
     "execution_count": 75,
     "metadata": {},
     "output_type": "execute_result"
    }
   ],
   "source": [
    "ratingfinal_df = pd.read_csv('./data/rating_final.csv')\n",
    "print(ratingfinal_df.dtypes)\n",
    "ratingfinal_df.head()\n",
    "print(\"\\n\")\n",
    "\n",
    "ratingfinal_df.head()"
   ]
  },
  {
   "cell_type": "code",
   "execution_count": 76,
   "metadata": {},
   "outputs": [
    {
     "data": {
      "text/plain": [
       "(1161, 5)"
      ]
     },
     "execution_count": 76,
     "metadata": {},
     "output_type": "execute_result"
    }
   ],
   "source": [
    "ratingfinal_df.shape"
   ]
  },
  {
   "cell_type": "markdown",
   "metadata": {},
   "source": [
    "There are **1161 user ratings** with **5 attributes** in total."
   ]
  },
  {
   "cell_type": "markdown",
   "metadata": {},
   "source": [
    "### usercuisine.csv - Possibly Cuisine Preference For Each User"
   ]
  },
  {
   "cell_type": "code",
   "execution_count": 77,
   "metadata": {},
   "outputs": [
    {
     "name": "stdout",
     "output_type": "stream",
     "text": [
      "userID      object\n",
      "Rcuisine    object\n",
      "dtype: object\n",
      "\n",
      "\n"
     ]
    },
    {
     "data": {
      "text/html": [
       "<div>\n",
       "<style>\n",
       "    .dataframe thead tr:only-child th {\n",
       "        text-align: right;\n",
       "    }\n",
       "\n",
       "    .dataframe thead th {\n",
       "        text-align: left;\n",
       "    }\n",
       "\n",
       "    .dataframe tbody tr th {\n",
       "        vertical-align: top;\n",
       "    }\n",
       "</style>\n",
       "<table border=\"1\" class=\"dataframe\">\n",
       "  <thead>\n",
       "    <tr style=\"text-align: right;\">\n",
       "      <th></th>\n",
       "      <th>userID</th>\n",
       "      <th>Rcuisine</th>\n",
       "    </tr>\n",
       "  </thead>\n",
       "  <tbody>\n",
       "    <tr>\n",
       "      <th>0</th>\n",
       "      <td>U1001</td>\n",
       "      <td>American</td>\n",
       "    </tr>\n",
       "    <tr>\n",
       "      <th>1</th>\n",
       "      <td>U1002</td>\n",
       "      <td>Mexican</td>\n",
       "    </tr>\n",
       "    <tr>\n",
       "      <th>2</th>\n",
       "      <td>U1003</td>\n",
       "      <td>Mexican</td>\n",
       "    </tr>\n",
       "    <tr>\n",
       "      <th>3</th>\n",
       "      <td>U1004</td>\n",
       "      <td>Bakery</td>\n",
       "    </tr>\n",
       "    <tr>\n",
       "      <th>4</th>\n",
       "      <td>U1004</td>\n",
       "      <td>Breakfast-Brunch</td>\n",
       "    </tr>\n",
       "  </tbody>\n",
       "</table>\n",
       "</div>"
      ],
      "text/plain": [
       "  userID          Rcuisine\n",
       "0  U1001          American\n",
       "1  U1002           Mexican\n",
       "2  U1003           Mexican\n",
       "3  U1004            Bakery\n",
       "4  U1004  Breakfast-Brunch"
      ]
     },
     "execution_count": 77,
     "metadata": {},
     "output_type": "execute_result"
    }
   ],
   "source": [
    "usercuisine_df = pd.read_csv('./data/usercuisine.csv')\n",
    "print(usercuisine_df.dtypes)\n",
    "usercuisine_df.head()\n",
    "print(\"\\n\")\n",
    "\n",
    "usercuisine_df.head()"
   ]
  },
  {
   "cell_type": "code",
   "execution_count": 78,
   "metadata": {},
   "outputs": [
    {
     "data": {
      "text/plain": [
       "(330, 2)"
      ]
     },
     "execution_count": 78,
     "metadata": {},
     "output_type": "execute_result"
    }
   ],
   "source": [
    "usercuisine_df.shape"
   ]
  },
  {
   "cell_type": "markdown",
   "metadata": {},
   "source": [
    "There are **330 records** of user cuisine preferences and **2 attributes** in total"
   ]
  },
  {
   "cell_type": "code",
   "execution_count": 82,
   "metadata": {},
   "outputs": [
    {
     "data": {
      "text/plain": [
       "array(['American', 'Mexican', 'Bakery', 'Breakfast-Brunch', 'Japanese',\n",
       "       'Contemporary', 'Bagels', 'Cafe-Coffee_Shop',\n",
       "       'Continental-European', 'Cafeteria', 'Family', 'Juice', 'Hawaiian',\n",
       "       'Hot_Dogs', 'Latin_American', 'Korean', 'Italian', 'Diner',\n",
       "       'Fast_Food', 'Deli-Sandwiches', 'Regional', 'Fusion', 'Portuguese',\n",
       "       'Indian-Pakistani', 'Eastern_European', 'Lebanese', 'Moroccan',\n",
       "       'Barbecue', 'Polynesian', 'Polish', 'Chinese', 'Pizzeria',\n",
       "       'Burgers', 'Afghan', 'Middle_Eastern', 'Mongolian', 'Bar', 'Cuban',\n",
       "       'Tex-Mex', 'Spanish', 'Soup', 'Sushi', 'Game', 'Doughnuts',\n",
       "       'Australian', 'Asian', 'Dessert-Ice_Cream', 'Seafood', 'Turkish',\n",
       "       'Organic-Healthy', 'Steaks', 'Mediterranean', 'British', 'Austrian',\n",
       "       'Israeli', 'Russian-Ukrainian', 'Malaysian', 'Vegetarian',\n",
       "       'Peruvian', 'Tapas', 'Eclectic', 'African', 'Basque', 'Canadian',\n",
       "       'Irish', 'Southwestern', 'Tea_House', 'International',\n",
       "       'Pacific_Northwest', 'German', 'Persian', 'Ethiopian', 'Romanian',\n",
       "       'Cambodian', 'Pacific_Rim', 'Tunisian', 'Filipino', 'Dim_Sum',\n",
       "       'Greek', 'Thai', 'Swiss', 'Cajun-Creole', 'Armenian', 'Indigenous',\n",
       "       'Bar_Pub_Brewery', 'Caribbean', 'Indonesian', 'Hungarian',\n",
       "       'Dutch-Belgian', 'Kosher', 'Fine_Dining', 'Jamaican', 'Tibetan',\n",
       "       'Southeast_Asian', 'Burmese', 'California', 'Scandinavian',\n",
       "       'Chilean', 'North_African', 'Vietnamese', 'French', 'Brazilian',\n",
       "       'Southern'], dtype=object)"
      ]
     },
     "execution_count": 82,
     "metadata": {},
     "output_type": "execute_result"
    }
   ],
   "source": [
    "types_of_cuisines = pd.unique(usercuisine_df.Rcuisine)\n",
    "types_of_cuisines"
   ]
  },
  {
   "cell_type": "code",
   "execution_count": 85,
   "metadata": {},
   "outputs": [
    {
     "data": {
      "text/plain": [
       "103"
      ]
     },
     "execution_count": 85,
     "metadata": {},
     "output_type": "execute_result"
    }
   ],
   "source": [
    "len(types_of_cuisines)"
   ]
  },
  {
   "cell_type": "markdown",
   "metadata": {},
   "source": [
    "**103 cuisines!** That's quite a number of cuisine choices!"
   ]
  },
  {
   "cell_type": "markdown",
   "metadata": {},
   "source": [
    "### chefmozcuisine.csv  - "
   ]
  },
  {
   "cell_type": "code",
   "execution_count": 86,
   "metadata": {},
   "outputs": [
    {
     "name": "stdout",
     "output_type": "stream",
     "text": [
      "placeID      int64\n",
      "Rcuisine    object\n",
      "dtype: object\n",
      "\n",
      "\n"
     ]
    },
    {
     "data": {
      "text/html": [
       "<div>\n",
       "<style>\n",
       "    .dataframe thead tr:only-child th {\n",
       "        text-align: right;\n",
       "    }\n",
       "\n",
       "    .dataframe thead th {\n",
       "        text-align: left;\n",
       "    }\n",
       "\n",
       "    .dataframe tbody tr th {\n",
       "        vertical-align: top;\n",
       "    }\n",
       "</style>\n",
       "<table border=\"1\" class=\"dataframe\">\n",
       "  <thead>\n",
       "    <tr style=\"text-align: right;\">\n",
       "      <th></th>\n",
       "      <th>placeID</th>\n",
       "      <th>Rcuisine</th>\n",
       "    </tr>\n",
       "  </thead>\n",
       "  <tbody>\n",
       "    <tr>\n",
       "      <th>0</th>\n",
       "      <td>135110</td>\n",
       "      <td>Spanish</td>\n",
       "    </tr>\n",
       "    <tr>\n",
       "      <th>1</th>\n",
       "      <td>135109</td>\n",
       "      <td>Italian</td>\n",
       "    </tr>\n",
       "    <tr>\n",
       "      <th>2</th>\n",
       "      <td>135107</td>\n",
       "      <td>Latin_American</td>\n",
       "    </tr>\n",
       "    <tr>\n",
       "      <th>3</th>\n",
       "      <td>135106</td>\n",
       "      <td>Mexican</td>\n",
       "    </tr>\n",
       "    <tr>\n",
       "      <th>4</th>\n",
       "      <td>135105</td>\n",
       "      <td>Fast_Food</td>\n",
       "    </tr>\n",
       "  </tbody>\n",
       "</table>\n",
       "</div>"
      ],
      "text/plain": [
       "   placeID        Rcuisine\n",
       "0   135110         Spanish\n",
       "1   135109         Italian\n",
       "2   135107  Latin_American\n",
       "3   135106         Mexican\n",
       "4   135105       Fast_Food"
      ]
     },
     "execution_count": 86,
     "metadata": {},
     "output_type": "execute_result"
    }
   ],
   "source": [
    "chefmozcuisine_df = pd.read_csv('./data/chefmozcuisine.csv')\n",
    "print(chefmozcuisine_df.dtypes)\n",
    "chefmozcuisine_df.head()\n",
    "print(\"\\n\")\n",
    "\n",
    "chefmozcuisine_df.head()"
   ]
  },
  {
   "cell_type": "code",
   "execution_count": 87,
   "metadata": {},
   "outputs": [
    {
     "data": {
      "text/plain": [
       "(916, 2)"
      ]
     },
     "execution_count": 87,
     "metadata": {},
     "output_type": "execute_result"
    }
   ],
   "source": [
    "chefmozcuisine_df.shape"
   ]
  },
  {
   "cell_type": "markdown",
   "metadata": {},
   "source": [
    "There are **916 records** for the types of cuisines the various restaurants serves. There are **2 attributes in total**. They are: placeID and Rcuisine"
   ]
  },
  {
   "cell_type": "markdown",
   "metadata": {},
   "source": [
    "### chefmozhours4.csv - "
   ]
  },
  {
   "cell_type": "code",
   "execution_count": 88,
   "metadata": {},
   "outputs": [
    {
     "name": "stdout",
     "output_type": "stream",
     "text": [
      "placeID     int64\n",
      "hours      object\n",
      "days       object\n",
      "dtype: object\n",
      "\n",
      "\n"
     ]
    },
    {
     "data": {
      "text/html": [
       "<div>\n",
       "<style>\n",
       "    .dataframe thead tr:only-child th {\n",
       "        text-align: right;\n",
       "    }\n",
       "\n",
       "    .dataframe thead th {\n",
       "        text-align: left;\n",
       "    }\n",
       "\n",
       "    .dataframe tbody tr th {\n",
       "        vertical-align: top;\n",
       "    }\n",
       "</style>\n",
       "<table border=\"1\" class=\"dataframe\">\n",
       "  <thead>\n",
       "    <tr style=\"text-align: right;\">\n",
       "      <th></th>\n",
       "      <th>placeID</th>\n",
       "      <th>hours</th>\n",
       "      <th>days</th>\n",
       "    </tr>\n",
       "  </thead>\n",
       "  <tbody>\n",
       "    <tr>\n",
       "      <th>0</th>\n",
       "      <td>135111</td>\n",
       "      <td>00:00-23:30;</td>\n",
       "      <td>Mon;Tue;Wed;Thu;Fri;</td>\n",
       "    </tr>\n",
       "    <tr>\n",
       "      <th>1</th>\n",
       "      <td>135111</td>\n",
       "      <td>00:00-23:30;</td>\n",
       "      <td>Sat;</td>\n",
       "    </tr>\n",
       "    <tr>\n",
       "      <th>2</th>\n",
       "      <td>135111</td>\n",
       "      <td>00:00-23:30;</td>\n",
       "      <td>Sun;</td>\n",
       "    </tr>\n",
       "    <tr>\n",
       "      <th>3</th>\n",
       "      <td>135110</td>\n",
       "      <td>08:00-19:00;</td>\n",
       "      <td>Mon;Tue;Wed;Thu;Fri;</td>\n",
       "    </tr>\n",
       "    <tr>\n",
       "      <th>4</th>\n",
       "      <td>135110</td>\n",
       "      <td>00:00-00:00;</td>\n",
       "      <td>Sat;</td>\n",
       "    </tr>\n",
       "  </tbody>\n",
       "</table>\n",
       "</div>"
      ],
      "text/plain": [
       "   placeID         hours                  days\n",
       "0   135111  00:00-23:30;  Mon;Tue;Wed;Thu;Fri;\n",
       "1   135111  00:00-23:30;                  Sat;\n",
       "2   135111  00:00-23:30;                  Sun;\n",
       "3   135110  08:00-19:00;  Mon;Tue;Wed;Thu;Fri;\n",
       "4   135110  00:00-00:00;                  Sat;"
      ]
     },
     "execution_count": 88,
     "metadata": {},
     "output_type": "execute_result"
    }
   ],
   "source": [
    "chefmozhours_df = pd.read_csv('./data/chefmozhours4.csv')\n",
    "print(chefmozhours_df.dtypes)\n",
    "chefmozhours_df.head()\n",
    "print(\"\\n\")\n",
    "\n",
    "chefmozhours_df.head()"
   ]
  },
  {
   "cell_type": "code",
   "execution_count": 89,
   "metadata": {},
   "outputs": [
    {
     "data": {
      "text/plain": [
       "(2339, 3)"
      ]
     },
     "execution_count": 89,
     "metadata": {},
     "output_type": "execute_result"
    }
   ],
   "source": [
    "chefmozhours_df.shape"
   ]
  },
  {
   "cell_type": "markdown",
   "metadata": {},
   "source": [
    "There are **2339 records** of a restaurants operational hours. Note that **a placeID** can have **multiple records** because different days could have different operational hours!"
   ]
  },
  {
   "cell_type": "markdown",
   "metadata": {},
   "source": [
    "### userprofile.csv"
   ]
  },
  {
   "cell_type": "code",
   "execution_count": 90,
   "metadata": {},
   "outputs": [
    {
     "name": "stdout",
     "output_type": "stream",
     "text": [
      "userID               object\n",
      "latitude            float64\n",
      "longitude           float64\n",
      "smoker               object\n",
      "drink_level          object\n",
      "dress_preference     object\n",
      "ambience             object\n",
      "transport            object\n",
      "marital_status       object\n",
      "hijos                object\n",
      "birth_year            int64\n",
      "interest             object\n",
      "personality          object\n",
      "religion             object\n",
      "activity             object\n",
      "color                object\n",
      "weight                int64\n",
      "budget               object\n",
      "height              float64\n",
      "dtype: object\n",
      "\n",
      "\n"
     ]
    },
    {
     "data": {
      "text/html": [
       "<div>\n",
       "<style>\n",
       "    .dataframe thead tr:only-child th {\n",
       "        text-align: right;\n",
       "    }\n",
       "\n",
       "    .dataframe thead th {\n",
       "        text-align: left;\n",
       "    }\n",
       "\n",
       "    .dataframe tbody tr th {\n",
       "        vertical-align: top;\n",
       "    }\n",
       "</style>\n",
       "<table border=\"1\" class=\"dataframe\">\n",
       "  <thead>\n",
       "    <tr style=\"text-align: right;\">\n",
       "      <th></th>\n",
       "      <th>userID</th>\n",
       "      <th>latitude</th>\n",
       "      <th>longitude</th>\n",
       "      <th>smoker</th>\n",
       "      <th>drink_level</th>\n",
       "      <th>dress_preference</th>\n",
       "      <th>ambience</th>\n",
       "      <th>transport</th>\n",
       "      <th>marital_status</th>\n",
       "      <th>hijos</th>\n",
       "      <th>birth_year</th>\n",
       "      <th>interest</th>\n",
       "      <th>personality</th>\n",
       "      <th>religion</th>\n",
       "      <th>activity</th>\n",
       "      <th>color</th>\n",
       "      <th>weight</th>\n",
       "      <th>budget</th>\n",
       "      <th>height</th>\n",
       "    </tr>\n",
       "  </thead>\n",
       "  <tbody>\n",
       "    <tr>\n",
       "      <th>0</th>\n",
       "      <td>U1001</td>\n",
       "      <td>22.139997</td>\n",
       "      <td>-100.978803</td>\n",
       "      <td>false</td>\n",
       "      <td>abstemious</td>\n",
       "      <td>informal</td>\n",
       "      <td>family</td>\n",
       "      <td>on foot</td>\n",
       "      <td>single</td>\n",
       "      <td>independent</td>\n",
       "      <td>1989</td>\n",
       "      <td>variety</td>\n",
       "      <td>thrifty-protector</td>\n",
       "      <td>none</td>\n",
       "      <td>student</td>\n",
       "      <td>black</td>\n",
       "      <td>69</td>\n",
       "      <td>medium</td>\n",
       "      <td>1.77</td>\n",
       "    </tr>\n",
       "    <tr>\n",
       "      <th>1</th>\n",
       "      <td>U1002</td>\n",
       "      <td>22.150087</td>\n",
       "      <td>-100.983325</td>\n",
       "      <td>false</td>\n",
       "      <td>abstemious</td>\n",
       "      <td>informal</td>\n",
       "      <td>family</td>\n",
       "      <td>public</td>\n",
       "      <td>single</td>\n",
       "      <td>independent</td>\n",
       "      <td>1990</td>\n",
       "      <td>technology</td>\n",
       "      <td>hunter-ostentatious</td>\n",
       "      <td>Catholic</td>\n",
       "      <td>student</td>\n",
       "      <td>red</td>\n",
       "      <td>40</td>\n",
       "      <td>low</td>\n",
       "      <td>1.87</td>\n",
       "    </tr>\n",
       "    <tr>\n",
       "      <th>2</th>\n",
       "      <td>U1003</td>\n",
       "      <td>22.119847</td>\n",
       "      <td>-100.946527</td>\n",
       "      <td>false</td>\n",
       "      <td>social drinker</td>\n",
       "      <td>formal</td>\n",
       "      <td>family</td>\n",
       "      <td>public</td>\n",
       "      <td>single</td>\n",
       "      <td>independent</td>\n",
       "      <td>1989</td>\n",
       "      <td>none</td>\n",
       "      <td>hard-worker</td>\n",
       "      <td>Catholic</td>\n",
       "      <td>student</td>\n",
       "      <td>blue</td>\n",
       "      <td>60</td>\n",
       "      <td>low</td>\n",
       "      <td>1.69</td>\n",
       "    </tr>\n",
       "    <tr>\n",
       "      <th>3</th>\n",
       "      <td>U1004</td>\n",
       "      <td>18.867000</td>\n",
       "      <td>-99.183000</td>\n",
       "      <td>false</td>\n",
       "      <td>abstemious</td>\n",
       "      <td>informal</td>\n",
       "      <td>family</td>\n",
       "      <td>public</td>\n",
       "      <td>single</td>\n",
       "      <td>independent</td>\n",
       "      <td>1940</td>\n",
       "      <td>variety</td>\n",
       "      <td>hard-worker</td>\n",
       "      <td>none</td>\n",
       "      <td>professional</td>\n",
       "      <td>green</td>\n",
       "      <td>44</td>\n",
       "      <td>medium</td>\n",
       "      <td>1.53</td>\n",
       "    </tr>\n",
       "    <tr>\n",
       "      <th>4</th>\n",
       "      <td>U1005</td>\n",
       "      <td>22.183477</td>\n",
       "      <td>-100.959891</td>\n",
       "      <td>false</td>\n",
       "      <td>abstemious</td>\n",
       "      <td>no preference</td>\n",
       "      <td>family</td>\n",
       "      <td>public</td>\n",
       "      <td>single</td>\n",
       "      <td>independent</td>\n",
       "      <td>1992</td>\n",
       "      <td>none</td>\n",
       "      <td>thrifty-protector</td>\n",
       "      <td>Catholic</td>\n",
       "      <td>student</td>\n",
       "      <td>black</td>\n",
       "      <td>65</td>\n",
       "      <td>medium</td>\n",
       "      <td>1.69</td>\n",
       "    </tr>\n",
       "  </tbody>\n",
       "</table>\n",
       "</div>"
      ],
      "text/plain": [
       "  userID   latitude   longitude smoker     drink_level dress_preference  \\\n",
       "0  U1001  22.139997 -100.978803  false      abstemious         informal   \n",
       "1  U1002  22.150087 -100.983325  false      abstemious         informal   \n",
       "2  U1003  22.119847 -100.946527  false  social drinker           formal   \n",
       "3  U1004  18.867000  -99.183000  false      abstemious         informal   \n",
       "4  U1005  22.183477 -100.959891  false      abstemious    no preference   \n",
       "\n",
       "  ambience transport marital_status        hijos  birth_year    interest  \\\n",
       "0   family   on foot         single  independent        1989     variety   \n",
       "1   family    public         single  independent        1990  technology   \n",
       "2   family    public         single  independent        1989        none   \n",
       "3   family    public         single  independent        1940     variety   \n",
       "4   family    public         single  independent        1992        none   \n",
       "\n",
       "           personality  religion      activity  color  weight  budget  height  \n",
       "0    thrifty-protector      none       student  black      69  medium    1.77  \n",
       "1  hunter-ostentatious  Catholic       student    red      40     low    1.87  \n",
       "2          hard-worker  Catholic       student   blue      60     low    1.69  \n",
       "3          hard-worker      none  professional  green      44  medium    1.53  \n",
       "4    thrifty-protector  Catholic       student  black      65  medium    1.69  "
      ]
     },
     "execution_count": 90,
     "metadata": {},
     "output_type": "execute_result"
    }
   ],
   "source": [
    "userprofile_df = pd.read_csv('./data/userprofile.csv')\n",
    "print(userprofile_df.dtypes)\n",
    "userprofile_df.head()\n",
    "print(\"\\n\")\n",
    "\n",
    "userprofile_df.head()"
   ]
  },
  {
   "cell_type": "code",
   "execution_count": 93,
   "metadata": {},
   "outputs": [
    {
     "data": {
      "text/plain": [
       "(138, 19)"
      ]
     },
     "execution_count": 93,
     "metadata": {},
     "output_type": "execute_result"
    }
   ],
   "source": [
    "userprofile_df.shape"
   ]
  },
  {
   "cell_type": "code",
   "execution_count": 96,
   "metadata": {},
   "outputs": [
    {
     "data": {
      "text/plain": [
       "138"
      ]
     },
     "execution_count": 96,
     "metadata": {},
     "output_type": "execute_result"
    }
   ],
   "source": [
    "# To confirm that there are no duplicate users here!\n",
    "len(pd.unique(userprofile_df.userID))"
   ]
  },
  {
   "cell_type": "markdown",
   "metadata": {},
   "source": [
    "There are **138 users**, each with **19 attributes**"
   ]
  },
  {
   "cell_type": "markdown",
   "metadata": {},
   "source": [
    "## Let's Dive In Deeper\n",
    "\n",
    "We are done with exploring what the data has to offer us. Now let's see if we can reveal what are their relationships with each other!\n",
    "\n",
    "Some possible, funny questions we could try to answer:\n",
    "1. Do people with higher BMI (fatter) tend to rate restaurants higher or lower? \n",
    "\n",
    "   - Higher or lower could imply that they are more particular about their food or... \n",
    "   - That they are less concerned about quality and they are simply gluttonous)"
   ]
  },
  {
   "cell_type": "markdown",
   "metadata": {},
   "source": []
  },
  {
   "cell_type": "code",
   "execution_count": 38,
   "metadata": {},
   "outputs": [
    {
     "ename": "NameError",
     "evalue": "name 'df_train' is not defined",
     "output_type": "error",
     "traceback": [
      "\u001b[0;31m---------------------------------------------------------------------------\u001b[0m",
      "\u001b[0;31mNameError\u001b[0m                                 Traceback (most recent call last)",
      "\u001b[0;32m<ipython-input-38-a1791b5bbbd3>\u001b[0m in \u001b[0;36m<module>\u001b[0;34m()\u001b[0m\n\u001b[0;32m----> 1\u001b[0;31m \u001b[0mcorrmat\u001b[0m \u001b[0;34m=\u001b[0m \u001b[0mdf_train\u001b[0m\u001b[0;34m.\u001b[0m\u001b[0mcorr\u001b[0m\u001b[0;34m(\u001b[0m\u001b[0;34m)\u001b[0m\u001b[0;34m\u001b[0m\u001b[0m\n\u001b[0m\u001b[1;32m      2\u001b[0m \u001b[0mf\u001b[0m\u001b[0;34m,\u001b[0m \u001b[0max\u001b[0m \u001b[0;34m=\u001b[0m \u001b[0mplt\u001b[0m\u001b[0;34m.\u001b[0m\u001b[0msubplots\u001b[0m\u001b[0;34m(\u001b[0m\u001b[0mfigsize\u001b[0m\u001b[0;34m=\u001b[0m\u001b[0;34m(\u001b[0m\u001b[0;36m12\u001b[0m\u001b[0;34m,\u001b[0m \u001b[0;36m9\u001b[0m\u001b[0;34m)\u001b[0m\u001b[0;34m)\u001b[0m\u001b[0;34m\u001b[0m\u001b[0m\n\u001b[1;32m      3\u001b[0m \u001b[0msns\u001b[0m\u001b[0;34m.\u001b[0m\u001b[0mheatmap\u001b[0m\u001b[0;34m(\u001b[0m\u001b[0mcorrmat\u001b[0m\u001b[0;34m,\u001b[0m \u001b[0mvmax\u001b[0m\u001b[0;34m=\u001b[0m\u001b[0;36m.8\u001b[0m\u001b[0;34m,\u001b[0m \u001b[0msquare\u001b[0m\u001b[0;34m=\u001b[0m\u001b[0mTrue\u001b[0m\u001b[0;34m)\u001b[0m\u001b[0;34m;\u001b[0m\u001b[0;34m\u001b[0m\u001b[0m\n",
      "\u001b[0;31mNameError\u001b[0m: name 'df_train' is not defined"
     ]
    }
   ],
   "source": [
    "corrmat = df_train.corr()\n",
    "f, ax = plt.subplots(figsize=(12, 9))\n",
    "sns.heatmap(corrmat, vmax=.8, square=True);"
   ]
  },
  {
   "cell_type": "code",
   "execution_count": null,
   "metadata": {
    "collapsed": true
   },
   "outputs": [],
   "source": []
  }
 ],
 "metadata": {
  "kernelspec": {
   "display_name": "Python 2",
   "language": "python",
   "name": "python2"
  },
  "language_info": {
   "codemirror_mode": {
    "name": "ipython",
    "version": 2
   },
   "file_extension": ".py",
   "mimetype": "text/x-python",
   "name": "python",
   "nbconvert_exporter": "python",
   "pygments_lexer": "ipython2",
   "version": "2.7.14"
  }
 },
 "nbformat": 4,
 "nbformat_minor": 2
}
